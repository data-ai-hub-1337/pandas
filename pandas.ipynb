{
  "nbformat": 4,
  "nbformat_minor": 0,
  "metadata": {
    "colab": {
      "provenance": []
    },
    "kernelspec": {
      "name": "python3",
      "display_name": "Python 3"
    },
    "language_info": {
      "name": "python"
    }
  },
  "cells": [
    {
      "cell_type": "code",
      "execution_count": 3,
      "metadata": {
        "id": "1apvQQ7czRwX"
      },
      "outputs": [],
      "source": [
        "import pandas as pd\n",
        "import numpy as np"
      ]
    },
    {
      "cell_type": "markdown",
      "source": [
        "\n",
        "# **- Data Structures:**"
      ],
      "metadata": {
        "id": "8Cat5F_Jz9cF"
      }
    },
    {
      "cell_type": "markdown",
      "source": [
        "\n",
        "1. Series: A one-dimensional array that can hold any data type."
      ],
      "metadata": {
        "id": "Q0R8nyrG2Zod"
      }
    },
    {
      "cell_type": "code",
      "source": [
        "s = pd.Series([1, 3, 5, np.nan, 6, 8])\n",
        "s"
      ],
      "metadata": {
        "id": "sBD-__v-zUJ9"
      },
      "execution_count": null,
      "outputs": []
    },
    {
      "cell_type": "markdown",
      "source": [
        "2. DataFrame: A two-dimensional table with labeled axes."
      ],
      "metadata": {
        "id": "hKgUelTt0SDu"
      }
    },
    {
      "cell_type": "code",
      "source": [
        "data = {'Name': ['Zakariae', 'Mrabet', 'Apollo'],\n",
        "        'Age': [21, 22, 75],\n",
        "        'City': ['Oujda', 'Khouribga', 'Sydney']}\n",
        "df = pd.DataFrame(data)\n",
        "df"
      ],
      "metadata": {
        "id": "VtQs7ztBzxMe"
      },
      "execution_count": null,
      "outputs": []
    },
    {
      "cell_type": "markdown",
      "source": [
        "# **- Loading Data:**"
      ],
      "metadata": {
        "id": "8yY71JfM089e"
      }
    },
    {
      "cell_type": "markdown",
      "source": [
        "1. Reading from CSV"
      ],
      "metadata": {
        "id": "JSKxjdQJ1f4t"
      }
    },
    {
      "cell_type": "code",
      "source": [
        "df = pd.read_csv('your_file.csv')"
      ],
      "metadata": {
        "id": "X4oYCwCc1fVW"
      },
      "execution_count": 8,
      "outputs": []
    },
    {
      "cell_type": "markdown",
      "source": [
        "2. Reading from Excel"
      ],
      "metadata": {
        "id": "ukvpo_ij1l1G"
      }
    },
    {
      "cell_type": "markdown",
      "source": [],
      "metadata": {
        "id": "YCGsehBM2THv"
      }
    },
    {
      "cell_type": "code",
      "source": [
        "df = pd.read_excel('your_file.xlsx')"
      ],
      "metadata": {
        "id": "LDL2Ibvl0tp2"
      },
      "execution_count": 7,
      "outputs": []
    },
    {
      "cell_type": "markdown",
      "source": [
        "# **- Exploratory Data Analysis (EDA):**"
      ],
      "metadata": {
        "id": "XATc1jzv1RkO"
      }
    },
    {
      "cell_type": "markdown",
      "source": [
        "1. Display the first and last n rows."
      ],
      "metadata": {
        "id": "kiENI1WE13e1"
      }
    },
    {
      "cell_type": "code",
      "source": [
        "df.head()\n",
        "df.tail()"
      ],
      "metadata": {
        "id": "6KFZyoVD1qW9"
      },
      "execution_count": null,
      "outputs": []
    },
    {
      "cell_type": "markdown",
      "source": [
        "2. Display a concise summary of the DataFrame."
      ],
      "metadata": {
        "id": "7cyYAqBO1_zV"
      }
    },
    {
      "cell_type": "code",
      "source": [
        "df.info()"
      ],
      "metadata": {
        "id": "rPqbaaFf10wV"
      },
      "execution_count": null,
      "outputs": []
    },
    {
      "cell_type": "markdown",
      "source": [
        "3.  Generate descriptive statistics."
      ],
      "metadata": {
        "id": "9p0hG_8Z2HIm"
      }
    },
    {
      "cell_type": "code",
      "source": [
        "df.describe()"
      ],
      "metadata": {
        "id": "j_DQfZUg2GyW"
      },
      "execution_count": null,
      "outputs": []
    },
    {
      "cell_type": "markdown",
      "source": [
        "4. Return the dimensions (rows, columns) of the DataFrame."
      ],
      "metadata": {
        "id": "wnM80tt62diV"
      }
    },
    {
      "cell_type": "code",
      "source": [
        "df.shape"
      ],
      "metadata": {
        "id": "OEG8DMiX2gjP"
      },
      "execution_count": null,
      "outputs": []
    },
    {
      "cell_type": "markdown",
      "source": [
        "# **- Data Selection and Indexing:**"
      ],
      "metadata": {
        "id": "6F9FsuaX2ice"
      }
    },
    {
      "cell_type": "markdown",
      "source": [
        "1. Selecting columns:"
      ],
      "metadata": {
        "id": "uNrK67bR2l12"
      }
    },
    {
      "cell_type": "code",
      "source": [
        "df['ColumnName']\n",
        "df.ColumnName"
      ],
      "metadata": {
        "id": "hGDhxUjz2rJO"
      },
      "execution_count": null,
      "outputs": []
    },
    {
      "cell_type": "markdown",
      "source": [
        "2. Selecting rows by index"
      ],
      "metadata": {
        "id": "Wehe7-v-2-6u"
      }
    },
    {
      "cell_type": "code",
      "source": [
        "index = 5\n",
        "df.loc[index]\n",
        "df.iloc[index]"
      ],
      "metadata": {
        "id": "cwNbymDm2uTm"
      },
      "execution_count": null,
      "outputs": []
    },
    {
      "cell_type": "markdown",
      "source": [
        "# **- Data Cleaning:**"
      ],
      "metadata": {
        "id": "JeHDz65L3U3u"
      }
    },
    {
      "cell_type": "markdown",
      "source": [
        "1. Check for missing values."
      ],
      "metadata": {
        "id": "xqg-a4pt3ahW"
      }
    },
    {
      "cell_type": "code",
      "source": [
        "df.isnull()"
      ],
      "metadata": {
        "id": "1Yy3v4W23Xk2"
      },
      "execution_count": null,
      "outputs": []
    },
    {
      "cell_type": "markdown",
      "source": [
        "2. Remove missing values."
      ],
      "metadata": {
        "id": "c8yk7oiA3eOW"
      }
    },
    {
      "cell_type": "code",
      "source": [
        "df.dropna()"
      ],
      "metadata": {
        "id": "FLwf4rpJ3jAe"
      },
      "execution_count": null,
      "outputs": []
    },
    {
      "cell_type": "markdown",
      "source": [
        "3. Fill missing values with a specific value."
      ],
      "metadata": {
        "id": "PYmocTXP3iIG"
      }
    },
    {
      "cell_type": "code",
      "source": [
        "value = \"exemple\"\n",
        "df.fillna(value)"
      ],
      "metadata": {
        "id": "1jo-RviB3mDm"
      },
      "execution_count": null,
      "outputs": []
    },
    {
      "cell_type": "markdown",
      "source": [
        "# **- Data Manipulation:**"
      ],
      "metadata": {
        "id": "zkl3oaWM3pFw"
      }
    },
    {
      "cell_type": "markdown",
      "source": [
        "1. Group data by a specific column."
      ],
      "metadata": {
        "id": "gOq1E7Hs380_"
      }
    },
    {
      "cell_type": "code",
      "source": [
        "df.groupby('column')"
      ],
      "metadata": {
        "id": "--oaBxsV3-Xe"
      },
      "execution_count": null,
      "outputs": []
    },
    {
      "cell_type": "markdown",
      "source": [
        "2. Sort DataFrame by values."
      ],
      "metadata": {
        "id": "KsyFbPRd4AUm"
      }
    },
    {
      "cell_type": "code",
      "source": [
        "df.sort_values('column')"
      ],
      "metadata": {
        "id": "JXh-ikR04DvW"
      },
      "execution_count": null,
      "outputs": []
    },
    {
      "cell_type": "markdown",
      "source": [
        "3. Merge two DataFrames."
      ],
      "metadata": {
        "id": "U_kwJVtm4Eb9"
      }
    },
    {
      "cell_type": "code",
      "source": [
        "other_df = pd.DataFrame(data)\n",
        "df.merge(other_df)"
      ],
      "metadata": {
        "id": "wrzqMj2I4Ihu"
      },
      "execution_count": null,
      "outputs": []
    },
    {
      "cell_type": "markdown",
      "source": [
        "# **- Exporting Data**"
      ],
      "metadata": {
        "id": "leeeScTq4jT2"
      }
    },
    {
      "cell_type": "markdown",
      "source": [
        "1. Save to CSV"
      ],
      "metadata": {
        "id": "Kw2Wwf-d4pgX"
      }
    },
    {
      "cell_type": "code",
      "source": [
        "df.to_csv('output.csv', index=False)"
      ],
      "metadata": {
        "id": "To999U8T4mLO"
      },
      "execution_count": null,
      "outputs": []
    },
    {
      "cell_type": "markdown",
      "source": [
        "2. Save to Excel"
      ],
      "metadata": {
        "id": "p6W7DHaR4rEu"
      }
    },
    {
      "cell_type": "code",
      "source": [
        "df.to_excel('output.xlsx', index=False)"
      ],
      "metadata": {
        "id": "8_sfVA4a4oIv"
      },
      "execution_count": null,
      "outputs": []
    }
  ]
}